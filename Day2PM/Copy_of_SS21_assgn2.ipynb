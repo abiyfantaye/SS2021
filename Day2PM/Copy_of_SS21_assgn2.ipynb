{
  "nbformat": 4,
  "nbformat_minor": 0,
  "metadata": {
    "colab": {
      "name": "Copy of SS21_assgn2.ipynb",
      "provenance": [],
      "collapsed_sections": [],
      "include_colab_link": true
    },
    "kernelspec": {
      "display_name": "Python 3",
      "language": "python",
      "name": "python3"
    },
    "language_info": {
      "codemirror_mode": {
        "name": "ipython",
        "version": 3
      },
      "file_extension": ".py",
      "mimetype": "text/x-python",
      "name": "python",
      "nbconvert_exporter": "python",
      "pygments_lexer": "ipython3",
      "version": "3.6.4"
    },
    "widgets": {
      "application/vnd.jupyter.widget-state+json": {
        "abd2ddb1051d42c882f1249e56e9ea4e": {
          "model_module": "@jupyter-widgets/controls",
          "model_name": "HBoxModel",
          "state": {
            "_view_name": "HBoxView",
            "_dom_classes": [],
            "_model_name": "HBoxModel",
            "_view_module": "@jupyter-widgets/controls",
            "_model_module_version": "1.5.0",
            "_view_count": null,
            "_view_module_version": "1.5.0",
            "box_style": "",
            "layout": "IPY_MODEL_d57ae41d892845b29b1c331ed0ae7fd0",
            "_model_module": "@jupyter-widgets/controls",
            "children": [
              "IPY_MODEL_3279290a0c43420384f9d2231fc92ae4",
              "IPY_MODEL_79fc6c8ab4324ef6a2932df7041fa457"
            ]
          }
        },
        "d57ae41d892845b29b1c331ed0ae7fd0": {
          "model_module": "@jupyter-widgets/base",
          "model_name": "LayoutModel",
          "state": {
            "_view_name": "LayoutView",
            "grid_template_rows": null,
            "right": null,
            "justify_content": null,
            "_view_module": "@jupyter-widgets/base",
            "overflow": null,
            "_model_module_version": "1.2.0",
            "_view_count": null,
            "flex_flow": null,
            "width": null,
            "min_width": null,
            "border": null,
            "align_items": null,
            "bottom": null,
            "_model_module": "@jupyter-widgets/base",
            "top": null,
            "grid_column": null,
            "overflow_y": null,
            "overflow_x": null,
            "grid_auto_flow": null,
            "grid_area": null,
            "grid_template_columns": null,
            "flex": null,
            "_model_name": "LayoutModel",
            "justify_items": null,
            "grid_row": null,
            "max_height": null,
            "align_content": null,
            "visibility": null,
            "align_self": null,
            "height": null,
            "min_height": null,
            "padding": null,
            "grid_auto_rows": null,
            "grid_gap": null,
            "max_width": null,
            "order": null,
            "_view_module_version": "1.2.0",
            "grid_template_areas": null,
            "object_position": null,
            "object_fit": null,
            "grid_auto_columns": null,
            "margin": null,
            "display": null,
            "left": null
          }
        },
        "3279290a0c43420384f9d2231fc92ae4": {
          "model_module": "@jupyter-widgets/controls",
          "model_name": "FloatProgressModel",
          "state": {
            "_view_name": "ProgressView",
            "style": "IPY_MODEL_66d53f6a61f047c8bda49f40875d2349",
            "_dom_classes": [],
            "description": "",
            "_model_name": "FloatProgressModel",
            "bar_style": "success",
            "max": 170498071,
            "_view_module": "@jupyter-widgets/controls",
            "_model_module_version": "1.5.0",
            "value": 170498071,
            "_view_count": null,
            "_view_module_version": "1.5.0",
            "orientation": "horizontal",
            "min": 0,
            "description_tooltip": null,
            "_model_module": "@jupyter-widgets/controls",
            "layout": "IPY_MODEL_62f49daee7c94ad5b83e801ac8e9c728"
          }
        },
        "79fc6c8ab4324ef6a2932df7041fa457": {
          "model_module": "@jupyter-widgets/controls",
          "model_name": "HTMLModel",
          "state": {
            "_view_name": "HTMLView",
            "style": "IPY_MODEL_a8ab4e08cf624d2eafb5579cc7f0b34d",
            "_dom_classes": [],
            "description": "",
            "_model_name": "HTMLModel",
            "placeholder": "​",
            "_view_module": "@jupyter-widgets/controls",
            "_model_module_version": "1.5.0",
            "value": " 170499072/? [00:39&lt;00:00, 4339550.54it/s]",
            "_view_count": null,
            "_view_module_version": "1.5.0",
            "description_tooltip": null,
            "_model_module": "@jupyter-widgets/controls",
            "layout": "IPY_MODEL_c9b1715b2cba4313acd28a4121aedb33"
          }
        },
        "66d53f6a61f047c8bda49f40875d2349": {
          "model_module": "@jupyter-widgets/controls",
          "model_name": "ProgressStyleModel",
          "state": {
            "_view_name": "StyleView",
            "_model_name": "ProgressStyleModel",
            "description_width": "initial",
            "_view_module": "@jupyter-widgets/base",
            "_model_module_version": "1.5.0",
            "_view_count": null,
            "_view_module_version": "1.2.0",
            "bar_color": null,
            "_model_module": "@jupyter-widgets/controls"
          }
        },
        "62f49daee7c94ad5b83e801ac8e9c728": {
          "model_module": "@jupyter-widgets/base",
          "model_name": "LayoutModel",
          "state": {
            "_view_name": "LayoutView",
            "grid_template_rows": null,
            "right": null,
            "justify_content": null,
            "_view_module": "@jupyter-widgets/base",
            "overflow": null,
            "_model_module_version": "1.2.0",
            "_view_count": null,
            "flex_flow": null,
            "width": null,
            "min_width": null,
            "border": null,
            "align_items": null,
            "bottom": null,
            "_model_module": "@jupyter-widgets/base",
            "top": null,
            "grid_column": null,
            "overflow_y": null,
            "overflow_x": null,
            "grid_auto_flow": null,
            "grid_area": null,
            "grid_template_columns": null,
            "flex": null,
            "_model_name": "LayoutModel",
            "justify_items": null,
            "grid_row": null,
            "max_height": null,
            "align_content": null,
            "visibility": null,
            "align_self": null,
            "height": null,
            "min_height": null,
            "padding": null,
            "grid_auto_rows": null,
            "grid_gap": null,
            "max_width": null,
            "order": null,
            "_view_module_version": "1.2.0",
            "grid_template_areas": null,
            "object_position": null,
            "object_fit": null,
            "grid_auto_columns": null,
            "margin": null,
            "display": null,
            "left": null
          }
        },
        "a8ab4e08cf624d2eafb5579cc7f0b34d": {
          "model_module": "@jupyter-widgets/controls",
          "model_name": "DescriptionStyleModel",
          "state": {
            "_view_name": "StyleView",
            "_model_name": "DescriptionStyleModel",
            "description_width": "",
            "_view_module": "@jupyter-widgets/base",
            "_model_module_version": "1.5.0",
            "_view_count": null,
            "_view_module_version": "1.2.0",
            "_model_module": "@jupyter-widgets/controls"
          }
        },
        "c9b1715b2cba4313acd28a4121aedb33": {
          "model_module": "@jupyter-widgets/base",
          "model_name": "LayoutModel",
          "state": {
            "_view_name": "LayoutView",
            "grid_template_rows": null,
            "right": null,
            "justify_content": null,
            "_view_module": "@jupyter-widgets/base",
            "overflow": null,
            "_model_module_version": "1.2.0",
            "_view_count": null,
            "flex_flow": null,
            "width": null,
            "min_width": null,
            "border": null,
            "align_items": null,
            "bottom": null,
            "_model_module": "@jupyter-widgets/base",
            "top": null,
            "grid_column": null,
            "overflow_y": null,
            "overflow_x": null,
            "grid_auto_flow": null,
            "grid_area": null,
            "grid_template_columns": null,
            "flex": null,
            "_model_name": "LayoutModel",
            "justify_items": null,
            "grid_row": null,
            "max_height": null,
            "align_content": null,
            "visibility": null,
            "align_self": null,
            "height": null,
            "min_height": null,
            "padding": null,
            "grid_auto_rows": null,
            "grid_gap": null,
            "max_width": null,
            "order": null,
            "_view_module_version": "1.2.0",
            "grid_template_areas": null,
            "object_position": null,
            "object_fit": null,
            "grid_auto_columns": null,
            "margin": null,
            "display": null,
            "left": null
          }
        }
      }
    },
    "accelerator": "GPU"
  },
  "cells": [
    {
      "cell_type": "markdown",
      "metadata": {
        "id": "view-in-github",
        "colab_type": "text"
      },
      "source": [
        "<a href=\"https://colab.research.google.com/github/isaacyeSN/SS2021/blob/main/Day2PM/Copy_of_SS21_assgn2.ipynb\" target=\"_parent\"><img src=\"https://colab.research.google.com/assets/colab-badge.svg\" alt=\"Open In Colab\"/></a>"
      ]
    },
    {
      "cell_type": "markdown",
      "metadata": {
        "id": "7V4x41HYLS2V"
      },
      "source": [
        "# **Image Classification (CIFAR10)**\n",
        "\n",
        "### **1)MLP Model**\n",
        "### **2)CNN Model**"
      ]
    },
    {
      "cell_type": "markdown",
      "metadata": {
        "id": "JatzvM9zLicx"
      },
      "source": [
        "# 0. Important necessary modules"
      ]
    },
    {
      "cell_type": "code",
      "metadata": {
        "id": "PD4cIKKvKFCC"
      },
      "source": [
        "import torch\n",
        "import torchvision\n",
        "import torchvision.transforms as transforms\n",
        "import torch.nn as nn\n",
        "import torch.nn.functional as F\n",
        "import torch.optim as optim\n",
        "import argparse\n",
        "import time\n",
        "import numpy as np\n",
        "import matplotlib.pyplot as plt"
      ],
      "execution_count": 1,
      "outputs": []
    },
    {
      "cell_type": "markdown",
      "metadata": {
        "id": "29UainWPco7Y"
      },
      "source": [
        "# 1.Data Preparation\n",
        "\n",
        "The **CIFAR-10** dataset consists of 60000 32x32 colour images in 10 classes, with 6000 images per class. There are 50000 training images and 10000 test images. (https://www.cs.toronto.edu/~kriz/cifar.html)\n",
        "\n",
        "\n",
        "The dataset is divided into five training batches and one test batch, each with 10000 images. The test batch contains exactly 1000 randomly-selected images from each class. The training batches contain the remaining images in random order, but some training batches may contain more images from one class than another. Between them, the training batches contain exactly 5000 images from each class."
      ]
    },
    {
      "cell_type": "markdown",
      "metadata": {
        "id": "0G3bjtVYMrTF"
      },
      "source": [
        "**Data Set**  \n",
        "$$X_{train} \\in \\mathcal{R}^{40000 \\times 1024}, Y_{train} \\in \\mathcal{Z}^{40000}$$  \n",
        "$$X_{val} \\in \\mathcal{R}^{10000 \\times 1024}, Y_{val} \\in \\mathcal{Z}^{10000}$$  \n",
        "$$X_{test} \\in \\mathcal{R}^{10000 \\times 1024}, Y_{test} \\in \\mathcal{Z}^{10000}$$"
      ]
    },
    {
      "cell_type": "markdown",
      "metadata": {
        "id": "xLtiWr6EMo9h"
      },
      "source": [
        "### Data loading using dataloader"
      ]
    },
    {
      "cell_type": "code",
      "metadata": {
        "colab": {
          "base_uri": "https://localhost:8080/",
          "height": 116,
          "referenced_widgets": [
            "abd2ddb1051d42c882f1249e56e9ea4e",
            "d57ae41d892845b29b1c331ed0ae7fd0",
            "3279290a0c43420384f9d2231fc92ae4",
            "79fc6c8ab4324ef6a2932df7041fa457",
            "66d53f6a61f047c8bda49f40875d2349",
            "62f49daee7c94ad5b83e801ac8e9c728",
            "a8ab4e08cf624d2eafb5579cc7f0b34d",
            "c9b1715b2cba4313acd28a4121aedb33"
          ]
        },
        "id": "Cu753dPPKGkV",
        "outputId": "067cc610-32ed-49aa-c8b4-f4b6b4fbeb92"
      },
      "source": [
        "transform = transforms.Compose(\n",
        "    [transforms.ToTensor(),\n",
        "     transforms.Normalize((0.5, 0.5, 0.5), (0.5, 0.5, 0.5))])\n",
        "\n",
        "batch_size = 128\n",
        "\n",
        "trainset = torchvision.datasets.CIFAR10(root='./data', train=True,\n",
        "                                        download=True, transform=transform)\n",
        "trainset, valset = torch.utils.data.random_split(trainset, [40000, 10000])\n",
        "\n",
        "testset = torchvision.datasets.CIFAR10(root='./data', train=False,\n",
        "                                       download=True, transform=transform)\n",
        "\n",
        "train_loader = torch.utils.data.DataLoader(trainset, batch_size=batch_size,\n",
        "                                          shuffle=True, num_workers=2)\n",
        "\n",
        "val_loader = torch.utils.data.DataLoader(valset, batch_size, shuffle=False)\n",
        "\n",
        "test_loader = torch.utils.data.DataLoader(testset, batch_size=batch_size,\n",
        "                                         shuffle=False, num_workers=2)\n",
        "\n",
        "classes = ('plane', 'car', 'bird', 'cat',\n",
        "           'deer', 'dog', 'frog', 'horse', 'ship', 'truck')"
      ],
      "execution_count": 2,
      "outputs": [
        {
          "output_type": "stream",
          "text": [
            "Downloading https://www.cs.toronto.edu/~kriz/cifar-10-python.tar.gz to ./data/cifar-10-python.tar.gz\n"
          ],
          "name": "stdout"
        },
        {
          "output_type": "display_data",
          "data": {
            "application/vnd.jupyter.widget-view+json": {
              "model_id": "abd2ddb1051d42c882f1249e56e9ea4e",
              "version_minor": 0,
              "version_major": 2
            },
            "text/plain": [
              "HBox(children=(FloatProgress(value=0.0, max=170498071.0), HTML(value='')))"
            ]
          },
          "metadata": {
            "tags": []
          }
        },
        {
          "output_type": "stream",
          "text": [
            "\n",
            "Extracting ./data/cifar-10-python.tar.gz to ./data\n",
            "Files already downloaded and verified\n"
          ],
          "name": "stdout"
        }
      ]
    },
    {
      "cell_type": "markdown",
      "metadata": {
        "id": "LurpnyZHNaa6"
      },
      "source": [
        "### Inspecting dataset"
      ]
    },
    {
      "cell_type": "code",
      "metadata": {
        "colab": {
          "base_uri": "https://localhost:8080/",
          "height": 423
        },
        "id": "xHUtRNv5mf8p",
        "outputId": "cd455ff3-0781-4057-f1cf-cc89c3360687"
      },
      "source": [
        "def imshow(img):\n",
        "    img = img / 2 + 0.5     # unnormalize\n",
        "    npimg = img.numpy()\n",
        "    plt.imshow(np.transpose(npimg, (1, 2, 0)))\n",
        "    plt.show()\n",
        "\n",
        "\n",
        "# get some random training images\n",
        "dataiter = iter(train_loader)\n",
        "images, labels = dataiter.next()\n",
        "\n",
        "# show images\n",
        "imshow(torchvision.utils.make_grid(images))\n",
        "# print labels\n",
        "print(' '.join('%5s' % classes[labels[j]] for j in range(batch_size)))\n",
        "\n",
        "print(type(images), images.shape)\n",
        "print(type(labels), labels.shape, labels)\n",
        "\n",
        "classes = ('plane', 'car', 'bird', 'cat',\n",
        "           'deer', 'dog', 'frog', 'horse', 'ship', 'truck')"
      ],
      "execution_count": 3,
      "outputs": [
        {
          "output_type": "display_data",
          "data": {
            "image/png": "[encoded data removed]",
            "text/plain": [
              "<Figure size 432x288 with 1 Axes>"
            ]
          },
          "metadata": {
            "tags": [],
            "needs_background": "light"
          }
        },
        {
          "output_type": "stream",
          "text": [
            "  dog horse truck   car  frog  ship truck   car truck truck   cat horse  ship  bird plane  deer  deer   dog   cat  ship   dog horse  frog plane   cat horse   dog   car plane plane truck  frog   cat   dog   dog   car   cat  bird  frog   car   car   car   car plane horse truck  ship truck  bird  bird   dog truck horse plane  bird  bird plane   car   cat  ship plane  ship  frog truck  deer  ship  frog   dog  frog  ship   car horse plane   dog  deer   cat truck  bird  frog   dog plane horse   dog  bird plane horse truck   car plane  bird truck truck   car truck  ship  frog plane   cat   dog  deer horse truck horse  bird  bird  ship  bird plane   cat truck   dog  frog   car  ship  bird truck horse truck   dog truck   dog   car   cat  deer  frog   cat truck horse\n",
            "<class 'torch.Tensor'> torch.Size([128, 3, 32, 32])\n",
            "<class 'torch.Tensor'> torch.Size([128]) tensor([5, 7, 9, 1, 6, 8, 9, 1, 9, 9, 3, 7, 8, 2, 0, 4, 4, 5, 3, 8, 5, 7, 6, 0,\n",
            "        3, 7, 5, 1, 0, 0, 9, 6, 3, 5, 5, 1, 3, 2, 6, 1, 1, 1, 1, 0, 7, 9, 8, 9,\n",
            "        2, 2, 5, 9, 7, 0, 2, 2, 0, 1, 3, 8, 0, 8, 6, 9, 4, 8, 6, 5, 6, 8, 1, 7,\n",
            "        0, 5, 4, 3, 9, 2, 6, 5, 0, 7, 5, 2, 0, 7, 9, 1, 0, 2, 9, 9, 1, 9, 8, 6,\n",
            "        0, 3, 5, 4, 7, 9, 7, 2, 2, 8, 2, 0, 3, 9, 5, 6, 1, 8, 2, 9, 7, 9, 5, 9,\n",
            "        5, 1, 3, 4, 6, 3, 9, 7])\n"
          ],
          "name": "stdout"
        }
      ]
    },
    {
      "cell_type": "markdown",
      "metadata": {
        "id": "VihfJ2lIO43-"
      },
      "source": [
        "### Checking GPU"
      ]
    },
    {
      "cell_type": "code",
      "metadata": {
        "colab": {
          "base_uri": "https://localhost:8080/"
        },
        "id": "a2Co1zIFO3zm",
        "outputId": "b385cd2c-9308-41d2-89f6-837d6f46d23f"
      },
      "source": [
        "device = 'cuda:0' if torch.cuda.is_available() else 'cpu'\n",
        "print(device)"
      ],
      "execution_count": 6,
      "outputs": [
        {
          "output_type": "stream",
          "text": [
            "cuda:0\n"
          ],
          "name": "stdout"
        }
      ]
    },
    {
      "cell_type": "markdown",
      "metadata": {
        "id": "JVmwKE2HO3cC"
      },
      "source": [
        ""
      ]
    },
    {
      "cell_type": "markdown",
      "metadata": {
        "id": "RxnfFJwBcsAv"
      },
      "source": [
        "# 2. Model Define"
      ]
    },
    {
      "cell_type": "markdown",
      "metadata": {
        "id": "2tYneIfxNlp_"
      },
      "source": [
        "### **MLP Model**"
      ]
    },
    {
      "cell_type": "markdown",
      "metadata": {
        "id": "JVf-pYnqNrhl"
      },
      "source": [
        "### **CNN Model**"
      ]
    },
    {
      "cell_type": "code",
      "metadata": {
        "id": "MV3wOVX3wzPW"
      },
      "source": [
        "class CNN(nn.Module):\n",
        "    def __init__(self):\n",
        "        super(CNN, self).__init__()\n",
        "\n",
        "        self.conv1 = nn.Conv2d(in_channels = 3,\n",
        "                               out_channels = 64,\n",
        "                               kernel_size = 3,\n",
        "                               stride = 1,\n",
        "                               padding = 1) # To maintain the image size, you need to take # of kernel_size %2 for padding\n",
        "        \n",
        "        self.conv2 = nn.Conv2d(in_channels = 64,\n",
        "                               out_channels = 256,\n",
        "                               kernel_size = 5,\n",
        "                               stride = 1,\n",
        "                               padding = 2)\n",
        "        self.act = nn.ReLU()\n",
        "        self.maxpool1 = nn.MaxPool2d(kernel_size=2, stride=2)\n",
        "        self.fc = nn.Linear(65536, 10) # 256x32x32 ---> max pooling ---> 256x16x16 = 65536\n",
        "\n",
        "    def forward(self, x):\n",
        "        x = self.conv1(x)\n",
        "        x = self.act(x)\n",
        "        x = self.conv2(x)\n",
        "        x = self.act(x)\n",
        "        x = self.maxpool1(x)\n",
        "        x = self.fc(x.view(x.size(0), -1))\n",
        "        return x"
      ],
      "execution_count": 7,
      "outputs": []
    },
    {
      "cell_type": "code",
      "metadata": {
        "colab": {
          "base_uri": "https://localhost:8080/"
        },
        "id": "wlxq1W9_6AAz",
        "outputId": "d15ecd3b-2c1e-46a9-9f0c-07b4a6240f5b"
      },
      "source": [
        "net = CNN()\n",
        "print(net)\n",
        "x = torch.randn(128,3,32,32)\n",
        "y = net(x)\n",
        "print(y.size())"
      ],
      "execution_count": 8,
      "outputs": [
        {
          "output_type": "stream",
          "text": [
            "CNN(\n",
            "  (conv1): Conv2d(3, 64, kernel_size=(3, 3), stride=(1, 1), padding=(1, 1))\n",
            "  (conv2): Conv2d(64, 256, kernel_size=(5, 5), stride=(1, 1), padding=(2, 2))\n",
            "  (act): ReLU()\n",
            "  (maxpool1): MaxPool2d(kernel_size=2, stride=2, padding=0, dilation=1, ceil_mode=False)\n",
            "  (fc): Linear(in_features=65536, out_features=10, bias=True)\n",
            ")\n",
            "torch.Size([128, 10])\n"
          ],
          "name": "stdout"
        },
        {
          "output_type": "stream",
          "text": [
            "/usr/local/lib/python3.7/dist-packages/torch/nn/functional.py:718: UserWarning: Named tensors and all their associated APIs are an experimental feature and subject to change. Please do not use them for anything important until they are released as stable. (Triggered internally at  /pytorch/c10/core/TensorImpl.h:1156.)\n",
            "  return torch.max_pool2d(input, kernel_size, stride, padding, dilation, ceil_mode)\n"
          ],
          "name": "stderr"
        }
      ]
    },
    {
      "cell_type": "markdown",
      "metadata": {
        "id": "hTZYucEUPBjK"
      },
      "source": [
        "# 3. Simulation Define"
      ]
    },
    {
      "cell_type": "code",
      "metadata": {
        "id": "c-kuCS-UKGCN"
      },
      "source": [
        "def experiment(args):\n",
        "    #model = LinearModel(args.in_dim, args.out_dim)\n",
        "    #model = MLPModel(args.in_dim, args.out_dim, args.hid_dim, args.n_layers, args.act, args.dropout, args.use_bn, args.use_xavier)\n",
        "\n",
        "    model = CNN()\n",
        "    print(model)\n",
        "\n",
        "    # ===== GPU ===== #\n",
        "    model.to(device)\n",
        "\n",
        "    # ====== Loss function ====== #\n",
        "    #criterion = nn.MSELoss()\n",
        "    criterion = nn.CrossEntropyLoss() #Image classification\n",
        "\n",
        "    optimizer = optim.SGD(model.parameters(), lr=args.lr, momentum=args.momentum)\n",
        "\n",
        "    # ====== Data collection ====== #\n",
        "    list_epoch = [] \n",
        "    list_train_loss = []\n",
        "    list_val_loss = []\n",
        "    list_acc = []\n",
        "    list_acc_epoch = []\n",
        "\n",
        "    # ====== Loop ====== #\n",
        "    for epoch in range(args.epoch):  \n",
        "        \n",
        "        # ====== Train ====== #\n",
        "        model.train() # Set the model be 'train mode' \n",
        "        train_loss = 0 # to sum up each batch\n",
        "        \n",
        "        for input_X, true_y in train_loader:\n",
        "            optimizer.zero_grad() # Initialize the gradient in the optimizer\n",
        "\n",
        "            # input_X = input_X.squeeze()\n",
        "            # input_X = input_X.view(-1, 784)\n",
        "\n",
        "            # ===== GPU ===== #\n",
        "            input_X = input_X.to(device)\n",
        "            true_y = true_y.to(device)\n",
        "\n",
        "            pred_y = model(input_X)\n",
        "\n",
        "            loss = criterion(pred_y.squeeze(), true_y)\n",
        "#            loss = criterion(pred_y, true_y)\n",
        "            loss.backward()\n",
        "            optimizer.step()\n",
        "            train_loss +=loss.item()\n",
        "\n",
        "        train_loss = train_loss / len(train_loader)\n",
        "        list_train_loss.append(train_loss)\n",
        "        list_epoch.append(epoch)\n",
        "\n",
        "        # ====== Validation ====== #\n",
        "        model.eval() # Set the model be 'train mode' \n",
        "        val_loss = 0 # to sum up each batch\n",
        "        \n",
        "        with torch.no_grad():\n",
        "            for input_X, true_y in val_loader:\n",
        "\n",
        "                # input_X = input_X.squeeze()\n",
        "                # input_X = input_X.view(-1, 784)\n",
        "\n",
        "               # ===== GPU ===== #\n",
        "                input_X = input_X.to(device)\n",
        "                true_y = true_y.to(device)\n",
        "\n",
        "                pred_y = model(input_X)\n",
        "\n",
        "                loss = criterion(pred_y.squeeze(), true_y)\n",
        "#                loss = criterion(pred_y, true_y)\n",
        "                val_loss += loss.item()\n",
        "\n",
        "        val_loss = val_loss / len(val_loader)\n",
        "        list_val_loss.append(val_loss)\n",
        "\n",
        "        # ====== Evaluation ====== #\n",
        "        model.eval() # Set the model be 'train mode' \n",
        "        correct = 0 # to sum up each batch\n",
        "        \n",
        "        with torch.no_grad():\n",
        "            for input_X, true_y in test_loader:\n",
        "\n",
        "                # input_X = input_X.squeeze()\n",
        "                # input_X = input_X.view(-1, 784)\n",
        "                \n",
        "                # ===== GPU ===== #\n",
        "                input_X = input_X.to(device)\n",
        "                true_y = true_y.to(device)\n",
        "\n",
        "                pred_y = model(input_X).max(1, keepdim=True)[1].squeeze()\n",
        "                correct += pred_y.eq(true_y).sum()\n",
        "\n",
        "            acc = correct.item() / len(test_loader.dataset)\n",
        "            list_acc.append(acc)\n",
        "            list_acc_epoch.append(epoch)\n",
        "        \n",
        "        print('Epoch: {}, Train Loss: {}, Val Loss: {}, Test Acc: {}%'.format(epoch, train_loss, val_loss, acc*100))\n",
        "\n",
        "    return list_epoch, list_train_loss, list_val_loss, list_acc, list_acc_epoch"
      ],
      "execution_count": 9,
      "outputs": []
    },
    {
      "cell_type": "code",
      "metadata": {
        "id": "PN4F4lc9H75-",
        "colab": {
          "base_uri": "https://localhost:8080/"
        },
        "outputId": "0966ae6d-a486-4fdf-fa84-0f7529224a12"
      },
      "source": [
        "ts = time.time()\n",
        "\n",
        "seed = 123\n",
        "np.random.seed(seed)\n",
        "torch.manual_seed(seed)\n",
        "\n",
        "parser = argparse.ArgumentParser()\n",
        "\n",
        "args = parser.parse_args(\"\")\n",
        "\n",
        "args.in_dim = 1024  # 32x32 (we only need for MLP)\n",
        "args.out_dim = 10\n",
        "args.hid_dim = 200\n",
        "args.n_layers = 5\n",
        "args.act = 'relu'\n",
        "args.dropout = 0.1\n",
        "args.use_bn = 'True'\n",
        "args.use_xavier = 'True'\n",
        "args.momentum = 0.9\n",
        "\n",
        "args.lr = 0.005\n",
        "args.epoch = 10\n",
        "\n",
        "list_epoch, list_train_loss, list_val_loss, list_acc, list_acc_epoch = experiment(args)\n",
        "\n",
        "te = time.time()\n",
        "\n",
        "print('Elapsed time: {} sec'.format(int(te-ts)))"
      ],
      "execution_count": null,
      "outputs": [
        {
          "output_type": "stream",
          "text": [
            "CNN(\n",
            "  (conv1): Conv2d(3, 64, kernel_size=(3, 3), stride=(1, 1), padding=(1, 1))\n",
            "  (conv2): Conv2d(64, 256, kernel_size=(5, 5), stride=(1, 1), padding=(2, 2))\n",
            "  (act): ReLU()\n",
            "  (maxpool1): MaxPool2d(kernel_size=2, stride=2, padding=0, dilation=1, ceil_mode=False)\n",
            "  (fc): Linear(in_features=65536, out_features=10, bias=True)\n",
            ")\n",
            "Epoch: 0, Train Loss: 1.55048079688709, Val Loss: 1.2711008515539048, Test Acc: 55.25%\n",
            "Epoch: 1, Train Loss: 1.1624769010482885, Val Loss: 1.1267766756347464, Test Acc: 60.540000000000006%\n",
            "Epoch: 2, Train Loss: 0.9942775728603521, Val Loss: 0.9991483492187306, Test Acc: 65.2%\n",
            "Epoch: 3, Train Loss: 0.8829946338939971, Val Loss: 0.942658284042455, Test Acc: 66.92%\n"
          ],
          "name": "stdout"
        }
      ]
    },
    {
      "cell_type": "markdown",
      "metadata": {
        "id": "Zqw21Cwrsc0C"
      },
      "source": [
        "# 5. Report"
      ]
    },
    {
      "cell_type": "code",
      "metadata": {
        "colab": {
          "base_uri": "https://localhost:8080/",
          "height": 329
        },
        "id": "tCJZcZ2bsboO",
        "outputId": "bdbb4fad-61f5-46d1-d870-fcf67d43dba1"
      },
      "source": [
        "fig = plt.figure(figsize=(15,5))\n",
        "\n",
        "# ====== Loss Fluctuation ====== #\n",
        "ax1 = fig.add_subplot(1, 2, 1)\n",
        "ax1.plot(list_epoch, list_train_loss, label='train_loss')\n",
        "ax1.plot(list_epoch, list_val_loss, '--', label='val_loss')\n",
        "ax1.set_xlabel('epoch')\n",
        "ax1.set_ylabel('loss')\n",
        "ax1.set_ylim(0, 5)\n",
        "ax1.grid()\n",
        "ax1.legend()\n",
        "ax1.set_title('epoch vs loss')\n",
        "\n",
        "# ====== Metric Fluctuation ====== #\n",
        "ax2 = fig.add_subplot(1, 2, 2)\n",
        "ax2.plot(list_acc_epoch, list_acc, marker='x', label='mae metric')\n",
        "\n",
        "ax2.set_xlabel('epoch')\n",
        "ax2.set_ylabel('mae')\n",
        "ax2.grid()\n",
        "ax2.legend()\n",
        "ax2.set_title('epoch vs mae')\n",
        "\n",
        "\n",
        "plt.show()"
      ],
      "execution_count": null,
      "outputs": [
        {
          "output_type": "display_data",
          "data": {
            "image/png": "[encoded data removed]",
            "text/plain": [
              "<Figure size 1080x360 with 2 Axes>"
            ]
          },
          "metadata": {
            "tags": [],
            "needs_background": "light"
          }
        }
      ]
    }
  ]
}